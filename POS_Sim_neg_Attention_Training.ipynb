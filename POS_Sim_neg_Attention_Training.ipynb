{
  "nbformat": 4,
  "nbformat_minor": 0,
  "metadata": {
    "colab": {
      "name": "POS_Sim_neg_Attention_Training.ipynb",
      "provenance": [],
      "collapsed_sections": [],
      "include_colab_link": true
    },
    "kernelspec": {
      "name": "python3",
      "display_name": "Python 3"
    },
    "accelerator": "GPU"
  },
  "cells": [
    {
      "cell_type": "markdown",
      "metadata": {
        "id": "view-in-github",
        "colab_type": "text"
      },
      "source": [
        "<a href=\"https://colab.research.google.com/github/sahaanirbannew/nli_legal_test_coliee_ovgu/blob/master/POS_Sim_neg_Attention_Training.ipynb\" target=\"_parent\"><img src=\"https://colab.research.google.com/assets/colab-badge.svg\" alt=\"Open In Colab\"/></a>"
      ]
    },
    {
      "cell_type": "code",
      "metadata": {
        "id": "4OvAjONUju26",
        "colab_type": "code",
        "outputId": "914b7f61-707d-4dfc-ccda-0142dcec805a",
        "colab": {
          "base_uri": "https://localhost:8080/",
          "height": 979
        }
      },
      "source": [
        "!pip install tensorflow==1.15\n",
        "!pip install pyspellchecker"
      ],
      "execution_count": 4,
      "outputs": [
        {
          "output_type": "stream",
          "text": [
            "Collecting tensorflow==1.15\n",
            "\u001b[?25l  Downloading https://files.pythonhosted.org/packages/3f/98/5a99af92fb911d7a88a0005ad55005f35b4c1ba8d75fba02df726cd936e6/tensorflow-1.15.0-cp36-cp36m-manylinux2010_x86_64.whl (412.3MB)\n",
            "\u001b[K     |████████████████████████████████| 412.3MB 42kB/s \n",
            "\u001b[?25hRequirement already satisfied: numpy<2.0,>=1.16.0 in /usr/local/lib/python3.6/dist-packages (from tensorflow==1.15) (1.18.5)\n",
            "Requirement already satisfied: google-pasta>=0.1.6 in /usr/local/lib/python3.6/dist-packages (from tensorflow==1.15) (0.2.0)\n",
            "Requirement already satisfied: opt-einsum>=2.3.2 in /usr/local/lib/python3.6/dist-packages (from tensorflow==1.15) (3.2.1)\n",
            "Collecting tensorboard<1.16.0,>=1.15.0\n",
            "\u001b[?25l  Downloading https://files.pythonhosted.org/packages/1e/e9/d3d747a97f7188f48aa5eda486907f3b345cd409f0a0850468ba867db246/tensorboard-1.15.0-py3-none-any.whl (3.8MB)\n",
            "\u001b[K     |████████████████████████████████| 3.8MB 57.4MB/s \n",
            "\u001b[?25hRequirement already satisfied: absl-py>=0.7.0 in /usr/local/lib/python3.6/dist-packages (from tensorflow==1.15) (0.9.0)\n",
            "Requirement already satisfied: wheel>=0.26 in /usr/local/lib/python3.6/dist-packages (from tensorflow==1.15) (0.34.2)\n",
            "Collecting gast==0.2.2\n",
            "  Downloading https://files.pythonhosted.org/packages/4e/35/11749bf99b2d4e3cceb4d55ca22590b0d7c2c62b9de38ac4a4a7f4687421/gast-0.2.2.tar.gz\n",
            "Requirement already satisfied: protobuf>=3.6.1 in /usr/local/lib/python3.6/dist-packages (from tensorflow==1.15) (3.10.0)\n",
            "Requirement already satisfied: keras-applications>=1.0.8 in /usr/local/lib/python3.6/dist-packages (from tensorflow==1.15) (1.0.8)\n",
            "Requirement already satisfied: astor>=0.6.0 in /usr/local/lib/python3.6/dist-packages (from tensorflow==1.15) (0.8.1)\n",
            "Requirement already satisfied: six>=1.10.0 in /usr/local/lib/python3.6/dist-packages (from tensorflow==1.15) (1.12.0)\n",
            "Requirement already satisfied: termcolor>=1.1.0 in /usr/local/lib/python3.6/dist-packages (from tensorflow==1.15) (1.1.0)\n",
            "Requirement already satisfied: grpcio>=1.8.6 in /usr/local/lib/python3.6/dist-packages (from tensorflow==1.15) (1.29.0)\n",
            "Requirement already satisfied: keras-preprocessing>=1.0.5 in /usr/local/lib/python3.6/dist-packages (from tensorflow==1.15) (1.1.2)\n",
            "Requirement already satisfied: wrapt>=1.11.1 in /usr/local/lib/python3.6/dist-packages (from tensorflow==1.15) (1.12.1)\n",
            "Collecting tensorflow-estimator==1.15.1\n",
            "\u001b[?25l  Downloading https://files.pythonhosted.org/packages/de/62/2ee9cd74c9fa2fa450877847ba560b260f5d0fb70ee0595203082dafcc9d/tensorflow_estimator-1.15.1-py2.py3-none-any.whl (503kB)\n",
            "\u001b[K     |████████████████████████████████| 512kB 41.0MB/s \n",
            "\u001b[?25hRequirement already satisfied: markdown>=2.6.8 in /usr/local/lib/python3.6/dist-packages (from tensorboard<1.16.0,>=1.15.0->tensorflow==1.15) (3.2.2)\n",
            "Requirement already satisfied: setuptools>=41.0.0 in /usr/local/lib/python3.6/dist-packages (from tensorboard<1.16.0,>=1.15.0->tensorflow==1.15) (47.1.1)\n",
            "Requirement already satisfied: werkzeug>=0.11.15 in /usr/local/lib/python3.6/dist-packages (from tensorboard<1.16.0,>=1.15.0->tensorflow==1.15) (1.0.1)\n",
            "Requirement already satisfied: h5py in /usr/local/lib/python3.6/dist-packages (from keras-applications>=1.0.8->tensorflow==1.15) (2.10.0)\n",
            "Requirement already satisfied: importlib-metadata; python_version < \"3.8\" in /usr/local/lib/python3.6/dist-packages (from markdown>=2.6.8->tensorboard<1.16.0,>=1.15.0->tensorflow==1.15) (1.6.0)\n",
            "Requirement already satisfied: zipp>=0.5 in /usr/local/lib/python3.6/dist-packages (from importlib-metadata; python_version < \"3.8\"->markdown>=2.6.8->tensorboard<1.16.0,>=1.15.0->tensorflow==1.15) (3.1.0)\n",
            "Building wheels for collected packages: gast\n",
            "  Building wheel for gast (setup.py) ... \u001b[?25l\u001b[?25hdone\n",
            "  Created wheel for gast: filename=gast-0.2.2-cp36-none-any.whl size=7540 sha256=3486fc257c452c5cdab335e962e9e9c2a6ba8ff5d5c2141b2f96d48e83046b60\n",
            "  Stored in directory: /root/.cache/pip/wheels/5c/2e/7e/a1d4d4fcebe6c381f378ce7743a3ced3699feb89bcfbdadadd\n",
            "Successfully built gast\n",
            "\u001b[31mERROR: tensorflow-probability 0.10.0 has requirement gast>=0.3.2, but you'll have gast 0.2.2 which is incompatible.\u001b[0m\n",
            "Installing collected packages: tensorboard, gast, tensorflow-estimator, tensorflow\n",
            "  Found existing installation: tensorboard 2.2.2\n",
            "    Uninstalling tensorboard-2.2.2:\n",
            "      Successfully uninstalled tensorboard-2.2.2\n",
            "  Found existing installation: gast 0.3.3\n",
            "    Uninstalling gast-0.3.3:\n",
            "      Successfully uninstalled gast-0.3.3\n",
            "  Found existing installation: tensorflow-estimator 2.2.0\n",
            "    Uninstalling tensorflow-estimator-2.2.0:\n",
            "      Successfully uninstalled tensorflow-estimator-2.2.0\n",
            "  Found existing installation: tensorflow 2.2.0\n",
            "    Uninstalling tensorflow-2.2.0:\n",
            "      Successfully uninstalled tensorflow-2.2.0\n",
            "Successfully installed gast-0.2.2 tensorboard-1.15.0 tensorflow-1.15.0 tensorflow-estimator-1.15.1\n",
            "Requirement already satisfied: pyspellchecker in /usr/local/lib/python3.6/dist-packages (0.5.4)\n"
          ],
          "name": "stdout"
        }
      ]
    },
    {
      "cell_type": "code",
      "metadata": {
        "id": "Fkj33MpA52dg",
        "colab_type": "code",
        "colab": {
          "base_uri": "https://localhost:8080/",
          "height": 55
        },
        "outputId": "d08bd306-5ecd-469a-bc98-1e2246d05d65"
      },
      "source": [
        "from google.colab import drive\n",
        "drive.mount('/content/drive')"
      ],
      "execution_count": 5,
      "outputs": [
        {
          "output_type": "stream",
          "text": [
            "Drive already mounted at /content/drive; to attempt to forcibly remount, call drive.mount(\"/content/drive\", force_remount=True).\n"
          ],
          "name": "stdout"
        }
      ]
    },
    {
      "cell_type": "code",
      "metadata": {
        "id": "rb5jVdRPgbEc",
        "colab_type": "code",
        "colab": {}
      },
      "source": [
        "import os \n",
        "os.chdir('/content/drive/My Drive/COLIEE/Code/nli_coliee')"
      ],
      "execution_count": 0,
      "outputs": []
    },
    {
      "cell_type": "code",
      "metadata": {
        "id": "UWiN5I7Xhajy",
        "colab_type": "code",
        "outputId": "ff48937c-48e4-4e09-97ab-31c6c6f515de",
        "colab": {
          "base_uri": "https://localhost:8080/",
          "height": 462
        }
      },
      "source": [
        "import os\n",
        "import h5py\n",
        "import datetime\n",
        "import math\n",
        "import pickle\n",
        "import numpy as np\n",
        "import nltk \n",
        "nltk.download('punkt')\n",
        "nltk.download('universal_tagset')\n",
        "nltk.download('averaged_perceptron_tagger')\n",
        "import data_parser_for_POS_simneg as dp\n",
        "\n",
        "\n",
        "from sklearn.model_selection import train_test_split\n",
        "from sklearn.utils import shuffle\n",
        "from sklearn.metrics import confusion_matrix\n",
        "from matplotlib import pyplot as plt\n",
        "\n",
        "import tensorflow as tf\n",
        "from tensorflow.contrib import rnn\n",
        "from keras.utils.np_utils import to_categorical\n"
      ],
      "execution_count": 7,
      "outputs": [
        {
          "output_type": "stream",
          "text": [
            "[nltk_data] Downloading package punkt to /root/nltk_data...\n",
            "[nltk_data]   Unzipping tokenizers/punkt.zip.\n",
            "[nltk_data] Downloading package universal_tagset to /root/nltk_data...\n",
            "[nltk_data]   Unzipping taggers/universal_tagset.zip.\n",
            "[nltk_data] Downloading package averaged_perceptron_tagger to\n",
            "[nltk_data]     /root/nltk_data...\n",
            "[nltk_data]   Unzipping taggers/averaged_perceptron_tagger.zip.\n",
            "[nltk_data] Downloading package stopwords to /root/nltk_data...\n",
            "[nltk_data]   Unzipping corpora/stopwords.zip.\n",
            "Here\n",
            "['i', 'me', 'my', 'myself', 'we', 'our', 'ours', 'ourselves', 'you', \"you're\", \"you've\", \"you'll\", \"you'd\", 'your', 'yours', 'yourself', 'yourselves', 'he', 'him', 'his', 'himself', 'she', \"she's\", 'her', 'hers', 'herself', 'it', \"it's\", 'its', 'itself', 'they', 'them', 'their', 'theirs', 'themselves', 'what', 'which', 'who', 'whom', 'this', 'that', \"that'll\", 'these', 'those', 'am', 'is', 'are', 'was', 'were', 'be', 'been', 'being', 'have', 'has', 'had', 'having', 'do', 'does', 'did', 'doing', 'a', 'an', 'the', 'and', 'but', 'if', 'or', 'because', 'as', 'until', 'while', 'of', 'at', 'by', 'for', 'with', 'about', 'against', 'between', 'into', 'through', 'during', 'before', 'after', 'above', 'below', 'to', 'from', 'up', 'down', 'in', 'out', 'on', 'off', 'over', 'under', 'again', 'further', 'then', 'once', 'here', 'there', 'when', 'where', 'why', 'how', 'all', 'any', 'both', 'each', 'few', 'more', 'most', 'other', 'some', 'such', 'no', 'nor', 'not', 'only', 'own', 'same', 'so', 'than', 'too', 'very', 's', 't', 'can', 'will', 'just', 'don', \"don't\", 'should', \"should've\", 'now', 'd', 'll', 'm', 'o', 're', 've', 'y', 'ain', 'aren', \"aren't\", 'couldn', \"couldn't\", 'didn', \"didn't\", 'doesn', \"doesn't\", 'hadn', \"hadn't\", 'hasn', \"hasn't\", 'haven', \"haven't\", 'isn', \"isn't\", 'ma', 'mightn', \"mightn't\", 'mustn', \"mustn't\", 'needn', \"needn't\", 'shan', \"shan't\", 'shouldn', \"shouldn't\", 'wasn', \"wasn't\", 'weren', \"weren't\", 'won', \"won't\", 'wouldn', \"wouldn't\"]\n",
            "--------------------------------------------------\n",
            "Check if pre-trained Word2vec model trained on Google News corpus exists in disk\n",
            "\n",
            "Model not found!\n",
            "Here!!!\n",
            "\tCheck if the binary of Google News Dataset present in disk\n",
            "\tBinary of Google News Dataset found. Now loading...\n"
          ],
          "name": "stdout"
        },
        {
          "output_type": "stream",
          "text": [
            "/usr/local/lib/python3.6/dist-packages/smart_open/smart_open_lib.py:253: UserWarning: This function is deprecated, use smart_open.open instead. See the migration notes for details: https://github.com/RaRe-Technologies/smart_open/blob/master/README.rst#migrating-to-the-new-open-function\n",
            "  'See the migration notes for details: %s' % _MIGRATION_NOTES_URL\n"
          ],
          "name": "stderr"
        },
        {
          "output_type": "stream",
          "text": [
            "\tThe Google News Dataset is loaded. Model initialising...\n",
            "Model loaded.\n"
          ],
          "name": "stdout"
        },
        {
          "output_type": "stream",
          "text": [
            "Using TensorFlow backend.\n"
          ],
          "name": "stderr"
        }
      ]
    },
    {
      "cell_type": "code",
      "metadata": {
        "id": "_T_OaRJdjSLt",
        "colab_type": "code",
        "colab": {}
      },
      "source": [
        "PREPROCESSED_TRAIN_SET = \"preprocessed_training_set.json\"\n",
        "PREPROCESSED_REDUCED_TRAIN_SET = \"preprocessed_reduced_training_set.json\"\n",
        "PREPROCESSED_VALIDATION_SET = \"preprocessed_validation_set.json\"\n",
        "SAVE_MODEL_TO = \"models/POS_sim_neg/attention/\"\n",
        "SAVE_STATES_TO = \"states/POS_sim_neg/attention/states.hdf5\"\n",
        "SAVE_SCORES_TO = \"attention_scores/attention_scores_baseline.pkl\"\n",
        "SAVE_LOGS_TO = \"tensorBoardLogs/POS_sim_neg/attention/\"\n",
        "TRAINING_LOG = \"logs/POS_sim_neg/attention/training_performance_log.txt\"\n"
      ],
      "execution_count": 0,
      "outputs": []
    },
    {
      "cell_type": "code",
      "metadata": {
        "id": "O-hNTi3NkE_g",
        "colab_type": "code",
        "outputId": "b5e558f4-5dcd-43e9-8570-e65a5ab5161d",
        "colab": {
          "base_uri": "https://localhost:8080/",
          "height": 166
        }
      },
      "source": [
        "\n",
        "CUSTOM_VALIDATION = False\n",
        "\n",
        "if not CUSTOM_VALIDATION:\n",
        "    X_train, y_train_labels = dp.get_data(PREPROCESSED_TRAIN_SET)\n",
        "    y_train = to_categorical(y_train_labels)\n",
        "    X_train, X_val, y_train, y_val = train_test_split(X_train, y_train, test_size=0.2, random_state=5, stratify=y_train)\n",
        "else:\n",
        "    X_train, y_train_labels = dp.get_data(PREPROCESSED_REDUCED_TRAIN_SET)\n",
        "    y_train = to_categorical(y_train_labels)\n",
        "\n",
        "    # get manually set validation set\n",
        "    X_val, y_val_labels = dp.get_data(PREPROCESSED_VALIDATION_SET)\n",
        "    y_val = to_categorical(y_val_labels)\n",
        "\n",
        "    # Shuffle stratify split training set to get some random instances for validation set\n",
        "    X_train, X_val_random, y_train, y_val_random = train_test_split(X_train, y_train, test_size=0.1, random_state=10, stratify=y_train)\n",
        "    # best split seed values: 10\n",
        "    # bad splits: 58, 14, 94, 31, 24, 4, 95, 59\n",
        "\n",
        "    # append random instances with custom modelled validation set\n",
        "    y_val = np.concatenate((y_val, y_val_random))\n",
        "    X_val = np.concatenate((X_val, X_val_random))\n",
        "\n",
        "    del y_train_labels, y_val_labels, y_val_random, X_val_random\n"
      ],
      "execution_count": 9,
      "outputs": [
        {
          "output_type": "stream",
          "text": [
            "Data parsing from JSON file: Complete\n",
            "Data encoded to word embeddings: Complete\n"
          ],
          "name": "stdout"
        },
        {
          "output_type": "stream",
          "text": [
            "/content/drive/My Drive/COLIEE/Code/nli_coliee/data_parser_for_POS_simneg.py:83: FutureWarning: Using a non-tuple sequence for multidimensional indexing is deprecated; use `arr[tuple(seq)]` instead of `arr[seq]`. In the future this will be interpreted as an array index, `arr[np.array(seq)]`, which will result either in an error or a different result.\n",
            "  padded_matrix[slices] = matrix[slices]\n",
            "/content/drive/My Drive/COLIEE/Code/nli_coliee/data_parser_for_POS_simneg.py:84: FutureWarning: Using a non-tuple sequence for multidimensional indexing is deprecated; use `arr[tuple(seq)]` instead of `arr[seq]`. In the future this will be interpreted as an array index, `arr[np.array(seq)]`, which will result either in an error or a different result.\n",
            "  padded_tags[slices] = tag[slices]\n"
          ],
          "name": "stderr"
        },
        {
          "output_type": "stream",
          "text": [
            "Premise & Hypothesis sentence padding: Complete\n"
          ],
          "name": "stdout"
        }
      ]
    },
    {
      "cell_type": "code",
      "metadata": {
        "id": "owtzWeMz0SXU",
        "colab_type": "code",
        "outputId": "4931554a-2775-4d51-fa00-abb12f1cf144",
        "colab": {
          "base_uri": "https://localhost:8080/",
          "height": 240
        }
      },
      "source": [
        "\n",
        "RAW_TEST_DATA = \"dataset/TestData_en.xml\"           # set file location to raw test xml\n",
        "LABELS_FILE = \"dataset/test_labels.txt\"             # set file location to test labels\n",
        "\n",
        "if os.path.exists('preprocessed_test_set.json'):\n",
        "    PREPROCESSED_TEST_SET = \"preprocessed_test_set.json\"            # Load json dump of test set, uncomment/comment this line \n",
        "    print('\\nPreprocessed test set loaded.')\n",
        "else:\n",
        "    PREPROCESSED_TEST_SET = pre.get_data(RAW_TEST_DATA, \"TEST\")     # Run preprocessing of test_set\n",
        "    with open('preprocessed_test_set.json', 'w') as fp:             \n",
        "        json.dump(PREPROCESSED_TEST_SET, fp)                        # Dump the preprocessed json file\n",
        "        \n",
        "    print('\\nPreprocessing of Test Set Complete!')\n",
        "    print('File {} saved to {}'.format('preprocessed_test_set.json',os.getcwd()))\n",
        "\n",
        "X_test = dp.get_data(PREPROCESSED_TEST_SET, 'TEST')                 # Parse and get X_test data\n",
        "print('\\nTest set parsing complete.')\n",
        "\n",
        "y_test = []                                                         \n",
        "with open(LABELS_FILE, \"r\", errors='ignore') as test_labels:        # Read labels from text file\n",
        "    for line in test_labels:\n",
        "        y_test.append(line.split(' ')[1])\n",
        "\n",
        "y_test = to_categorical(y_test)                                     # Categorize labels into binary format\n"
      ],
      "execution_count": 10,
      "outputs": [
        {
          "output_type": "stream",
          "text": [
            "\n",
            "Preprocessed test set loaded.\n",
            "Data parsing from JSON file: Complete\n",
            "Data encoded to word embeddings: Complete\n",
            "Premise & Hypothesis sentence padding: Complete\n",
            "\n",
            "Test set parsing complete.\n"
          ],
          "name": "stdout"
        },
        {
          "output_type": "stream",
          "text": [
            "/content/drive/My Drive/COLIEE/Code/nli_coliee/data_parser_for_POS_simneg.py:83: FutureWarning: Using a non-tuple sequence for multidimensional indexing is deprecated; use `arr[tuple(seq)]` instead of `arr[seq]`. In the future this will be interpreted as an array index, `arr[np.array(seq)]`, which will result either in an error or a different result.\n",
            "  padded_matrix[slices] = matrix[slices]\n",
            "/content/drive/My Drive/COLIEE/Code/nli_coliee/data_parser_for_POS_simneg.py:84: FutureWarning: Using a non-tuple sequence for multidimensional indexing is deprecated; use `arr[tuple(seq)]` instead of `arr[seq]`. In the future this will be interpreted as an array index, `arr[np.array(seq)]`, which will result either in an error or a different result.\n",
            "  padded_tags[slices] = tag[slices]\n"
          ],
          "name": "stderr"
        }
      ]
    },
    {
      "cell_type": "code",
      "metadata": {
        "id": "8YH19afxkPDp",
        "colab_type": "code",
        "colab": {}
      },
      "source": [
        "# Training Parameters\n",
        "learning_rate = 0.000001\n",
        "num_input = X_train.shape[2]            # dimension of each sentence \n",
        "timesteps = X_train.shape[1]            # timesteps\n",
        "num_hidden = {1: 128, 2: 64}            # dictionary that defines number of neurons per layer \n",
        "num_classes = 2                         # total number of classes\n",
        "num_layers = 1                          # desired number of LSTM layers\n"
      ],
      "execution_count": 0,
      "outputs": []
    },
    {
      "cell_type": "code",
      "metadata": {
        "id": "nay7dW6alehT",
        "colab_type": "code",
        "outputId": "1bd3137a-f8e4-4d15-8c99-6ec1f9341052",
        "colab": {
          "base_uri": "https://localhost:8080/",
          "height": 165
        }
      },
      "source": [
        "# Clears the default graph stack and resets the global default graph. The default graph is a property of the current thread.\n",
        "# Once a graph is created, all placeholders, variables and any elements are actually part of the current thread.\n",
        "# If we need to re-execute any of the tensorflow related code again, you need to reset the graph to its default state.\n",
        "tf.compat.v1.reset_default_graph() \n",
        "\n",
        "# Declare placeholders for input and labels that is required for tensor graph\n",
        "X = tf.compat.v1.placeholder(\"float\", [None, timesteps, num_input])\n",
        "y = tf.compat.v1.placeholder(\"float\", [None, num_classes])\n",
        "\n",
        "# initializer = tf.random_normal_initializer(stddev=0.1)\n",
        "initializer = tf.contrib.layers.xavier_initializer()\n",
        "\n",
        "fc_weights = {\n",
        "        'out' : tf.Variable(initializer(([2*num_hidden[1], num_classes])), name='w_out')      # output weights for applying softmax\n",
        "        }\n",
        "\n",
        "fc_biases = {\n",
        "        'out' : tf.Variable(tf.zeros([num_classes]), name='b_out')                # output bias\n",
        "        }\n",
        "\n",
        "keep_prob = tf.placeholder(tf.float32, name='keep_prob')\n",
        "weight_decay = tf.placeholder(tf.float32, name='weight_decay')\n",
        "tf.add_to_collection(tf.GraphKeys.REGULARIZATION_LOSSES, tf.nn.l2_loss(fc_weights['out']))\n",
        "\n"
      ],
      "execution_count": 12,
      "outputs": [
        {
          "output_type": "stream",
          "text": [
            "WARNING:tensorflow:\n",
            "The TensorFlow contrib module will not be included in TensorFlow 2.0.\n",
            "For more information, please see:\n",
            "  * https://github.com/tensorflow/community/blob/master/rfcs/20180907-contrib-sunset.md\n",
            "  * https://github.com/tensorflow/addons\n",
            "  * https://github.com/tensorflow/io (for I/O related ops)\n",
            "If you depend on functionality not listed there, please file an issue.\n",
            "\n"
          ],
          "name": "stdout"
        }
      ]
    },
    {
      "cell_type": "code",
      "metadata": {
        "id": "nykVON8xmDCo",
        "colab_type": "code",
        "colab": {}
      },
      "source": [
        "def BiRNN(x, weights, bias):\n",
        "    '''\n",
        "        BiRNN: Defines the architecture of LSTM network for training\n",
        "        Args: \n",
        "                x:          premise_hypothesis pair\n",
        "                weights:    weights required to apply relu activation function over hidden layer and softmax activation over output layer \n",
        "                bias:       bias corresponding to the weights.\n",
        "        \n",
        "        Returns:\n",
        "            1. muladd() applied over last outputs with corresponding weights and bias\n",
        "            2. concatenated forward and backward cell states\n",
        "            3. whole rnn output\n",
        "    '''\n",
        "    x = tf.unstack(x, timesteps, 1)\n",
        "    output = x   \n",
        "    \n",
        "    for i in range(num_layers):\n",
        "        \n",
        "        lstm_fw_cell = rnn.BasicLSTMCell(num_hidden[i+1], forget_bias=1.0 , activation=tf.nn.leaky_relu )          # define forward lstm cell with hidden cells\n",
        "        lstm_fw_cell = rnn.DropoutWrapper(lstm_fw_cell, output_keep_prob=keep_prob)       # define dropout over hidden forward lstm cell\n",
        "        lstm_bw_cell = rnn.BasicLSTMCell(num_hidden[i+1], forget_bias=1.0 , activation=tf.nn.leaky_relu)          # define backward lstm cell with hidden cells\n",
        "        lstm_bw_cell = rnn.DropoutWrapper(lstm_bw_cell,  output_keep_prob=keep_prob)      # define dropout over hidden backward lstm cell\n",
        " \n",
        "        with tf.compat.v1.variable_scope('lstm'+str(i)):\n",
        "            try:\n",
        "                output, state_fw, state_bw = rnn.static_bidirectional_rnn(lstm_fw_cell, lstm_bw_cell, output, dtype=tf.float32)\n",
        "            except Exception: # Old TensorFlow version only returns outputs not states\n",
        "                output = rnn.static_bidirectional_rnn(lstm_fw_cell, lstm_bw_cell, output, dtype=tf.float32)\n",
        "            \n",
        "            #Venky: concatinating the forward  and the backward cell states of the Rnn cell\n",
        "            if i == num_layers-1: #last layer\n",
        "                _ = tf.concat([state_fw.c, state_bw.c], axis=1, name='bidirectional_concat_c')\n",
        "                _ = tf.concat([state_fw.h, state_bw.h], axis=1, name='bidirectional_concat_h')\n",
        "            \n",
        "            # Venky: rnn cell output  --> currently this is not used for LSTMVis\n",
        "            outputs = tf.unstack(output, timesteps, 0)\n",
        "            outputs = tf.transpose(outputs, perm=[1, 0, 2]) \n",
        "    \n",
        "    return tf.add(tf.matmul(output[-1], weights['out']), bias['out']), outputs\n",
        "    \n"
      ],
      "execution_count": 0,
      "outputs": []
    },
    {
      "cell_type": "code",
      "metadata": {
        "id": "NWq7HEa6mn89",
        "colab_type": "code",
        "outputId": "8d608b93-db16-4d15-e953-b8f8b3a18671",
        "colab": {
          "base_uri": "https://localhost:8080/",
          "height": 406
        }
      },
      "source": [
        "with tf.name_scope(\"attention\"):\n",
        "\n",
        "    pre_logits , output  = BiRNN(X, fc_weights, fc_biases)\n",
        "    initializer = tf.random_normal_initializer(stddev=0.1) # he_initializer , xavier_initialiser\n",
        "    print(output.shape)\n",
        "    hidden_states = output.shape[2]\n",
        "    print(hidden_states)\n",
        "    \n",
        "    w_hidden = tf.get_variable(name=\"w_hidden\", shape=[hidden_states, timesteps ], initializer=initializer)\n",
        "    b_hidden = tf.get_variable(name=\"b_hidden\", shape=[timesteps], initializer=initializer)\n",
        "    w_output = tf.get_variable(name=\"w_output\", shape=[timesteps], initializer=initializer)  \n",
        "    # adding a one output node in the output layer creates a separate column vector for all the attention weights over which the softmax is applied, that created the problem previously\n",
        "\n",
        "    score = tf.tanh(tf.tensordot( output, w_hidden, axes=1) + b_hidden)\n",
        "    # Linear transformation by mulitiplying the weights and the rnn outputs and applying a non linear activtion over this output\n",
        "\n",
        "    attention = tf.tensordot(score , w_output, axes=1, name='attention')\n",
        "\n",
        "    attention_score = tf.nn.softmax(attention , name='attention_score') \n",
        "\n",
        "    attention_out = tf.reduce_sum( output * tf.expand_dims(attention_score, -1), 1)\n",
        "    \n",
        "    print(attention_score.shape)\n",
        "    print(attention_out.shape)\n",
        "\n",
        "tf.compat.v1.summary.histogram(\"attention_score\", attention_score)  # write attention score values to tensorboard summary (histogram visualization)\n"
      ],
      "execution_count": 14,
      "outputs": [
        {
          "output_type": "stream",
          "text": [
            "WARNING:tensorflow:From <ipython-input-13-80c8f567603e>:19: BasicLSTMCell.__init__ (from tensorflow.python.ops.rnn_cell_impl) is deprecated and will be removed in a future version.\n",
            "Instructions for updating:\n",
            "This class is equivalent as tf.keras.layers.LSTMCell, and will be replaced by that in Tensorflow 2.0.\n",
            "WARNING:tensorflow:From <ipython-input-13-80c8f567603e>:26: static_bidirectional_rnn (from tensorflow.python.ops.rnn) is deprecated and will be removed in a future version.\n",
            "Instructions for updating:\n",
            "Please use `keras.layers.Bidirectional(keras.layers.RNN(cell, unroll=True))`, which is equivalent to this API\n",
            "WARNING:tensorflow:From /usr/local/lib/python3.6/dist-packages/tensorflow_core/python/ops/rnn.py:1610: static_rnn (from tensorflow.python.ops.rnn) is deprecated and will be removed in a future version.\n",
            "Instructions for updating:\n",
            "Please use `keras.layers.RNN(cell, unroll=True)`, which is equivalent to this API\n",
            "WARNING:tensorflow:From /usr/local/lib/python3.6/dist-packages/tensorflow_core/python/ops/rnn_cell_impl.py:735: Layer.add_variable (from tensorflow.python.keras.engine.base_layer) is deprecated and will be removed in a future version.\n",
            "Instructions for updating:\n",
            "Please use `layer.add_weight` method instead.\n",
            "WARNING:tensorflow:From /usr/local/lib/python3.6/dist-packages/tensorflow_core/python/ops/rnn_cell_impl.py:739: calling Zeros.__init__ (from tensorflow.python.ops.init_ops) with dtype is deprecated and will be removed in a future version.\n",
            "Instructions for updating:\n",
            "Call initializer instance with the dtype argument instead of passing it to the constructor\n",
            "(?, 284, 256)\n",
            "256\n",
            "(?, 284)\n",
            "(?, 256)\n"
          ],
          "name": "stdout"
        },
        {
          "output_type": "execute_result",
          "data": {
            "text/plain": [
              "<tf.Tensor 'attention_score:0' shape=() dtype=string>"
            ]
          },
          "metadata": {
            "tags": []
          },
          "execution_count": 14
        }
      ]
    },
    {
      "cell_type": "code",
      "metadata": {
        "id": "sm-ja9K0m6HZ",
        "colab_type": "code",
        "outputId": "88b05fe5-6ad8-4a00-bd56-b686e9b4812d",
        "colab": {
          "base_uri": "https://localhost:8080/",
          "height": 111
        }
      },
      "source": [
        "with tf.name_scope(\"output\"):\n",
        "    logits = tf.contrib.slim.fully_connected(attention_out, 2, activation_fn=None)\n",
        "    prediction = tf.nn.softmax(logits, name='prediction')   # applies softmax over BiRNN output to calculate predicted values\n",
        "tf.compat.v1.summary.histogram(\"prediction\", prediction)    # write predicted values to tensorboard summary (histogram visualization)\n"
      ],
      "execution_count": 15,
      "outputs": [
        {
          "output_type": "stream",
          "text": [
            "WARNING:tensorflow:From /usr/local/lib/python3.6/dist-packages/tensorflow_core/contrib/layers/python/layers/layers.py:1866: Layer.apply (from tensorflow.python.keras.engine.base_layer) is deprecated and will be removed in a future version.\n",
            "Instructions for updating:\n",
            "Please use `layer.__call__` method instead.\n"
          ],
          "name": "stdout"
        },
        {
          "output_type": "execute_result",
          "data": {
            "text/plain": [
              "<tf.Tensor 'prediction:0' shape=() dtype=string>"
            ]
          },
          "metadata": {
            "tags": []
          },
          "execution_count": 15
        }
      ]
    },
    {
      "cell_type": "code",
      "metadata": {
        "id": "-qMsOZUcnEO9",
        "colab_type": "code",
        "outputId": "70aba46e-0679-42e7-ceca-81bd120e6cfc",
        "colab": {
          "base_uri": "https://localhost:8080/",
          "height": 185
        }
      },
      "source": [
        "with tf.name_scope(\"loss\"):\n",
        "    loss_op = tf.reduce_mean(tf.nn.softmax_cross_entropy_with_logits(logits=logits, labels=y))      # calculate loss \n",
        "    tf.compat.v1.summary.scalar('loss_op', loss_op)                                                 # write loss values to tensorboard summary \n",
        "                                                                                                    # (histogram visualization)\n",
        "    \n",
        "    reg_losses = tf.compat.v1.get_collection(tf.GraphKeys.REGULARIZATION_LOSSES)                              # apply regularizer over output weights\n",
        "    loss_op = loss_op + weight_decay * tf.add_n(reg_losses)                                                   # add regularization term with loss.\n",
        "    \n",
        "    #     optimizer = tf.compat.v1.train.RMSPropOptimizer(learning_rate)\n",
        "    optimizer = tf.compat.v1.train.AdamOptimizer(learning_rate)                                     # apply Adam Optimizer for loss optimization\n",
        "    gvs = optimizer.compute_gradients(loss_op)                                                      # fetch gradient values\n",
        "#     capped_gvs = [(tf.clip_by_value(grad, -0.1, 0.1), var) for grad, var in gvs]                    # clip each gradient value within the limit\n",
        "    \n",
        "    train_op = optimizer.apply_gradients(gvs)                                                       # applied clipped gradients\n",
        "    #     train_op = optimizer.minimize(loss_op)\n",
        "   \n"
      ],
      "execution_count": 16,
      "outputs": [
        {
          "output_type": "stream",
          "text": [
            "WARNING:tensorflow:From <ipython-input-16-54d01f522f34>:2: softmax_cross_entropy_with_logits (from tensorflow.python.ops.nn_ops) is deprecated and will be removed in a future version.\n",
            "Instructions for updating:\n",
            "\n",
            "Future major versions of TensorFlow will allow gradients to flow\n",
            "into the labels input on backprop by default.\n",
            "\n",
            "See `tf.nn.softmax_cross_entropy_with_logits_v2`.\n",
            "\n"
          ],
          "name": "stdout"
        }
      ]
    },
    {
      "cell_type": "code",
      "metadata": {
        "id": "HzBLvfAsoT_0",
        "colab_type": "code",
        "outputId": "5d3eaa55-9d40-4d51-dc25-7a81e0ed6d98",
        "colab": {
          "base_uri": "https://localhost:8080/",
          "height": 35
        }
      },
      "source": [
        "with tf.name_scope(\"accuracy\"):\n",
        "    correct_predictions = tf.equal(tf.argmax(prediction, 1), tf.argmax(y, 1))                       # obtain correct predictions on comparison with actual labels\n",
        "    accuracy = tf.reduce_mean(tf.cast(correct_predictions, 'float'), name=\"accuracy\")               # mean of correct predictions\n",
        "tf.compat.v1.summary.scalar('accuracy', accuracy)\n"
      ],
      "execution_count": 17,
      "outputs": [
        {
          "output_type": "execute_result",
          "data": {
            "text/plain": [
              "<tf.Tensor 'accuracy_1:0' shape=() dtype=string>"
            ]
          },
          "metadata": {
            "tags": []
          },
          "execution_count": 17
        }
      ]
    },
    {
      "cell_type": "code",
      "metadata": {
        "id": "hG3aewWzTca_",
        "colab_type": "code",
        "colab": {}
      },
      "source": [
        "def save_LSTM_states(states_inter, state_val, SAVE_STATES_TO):\n",
        "    '''\n",
        "    Description:    Saves LSTM states to disk\n",
        "    Input:          1. states_inter: list of states from batch inputs. Eg: If number_of_batches = 4, len(states_inter) = 4\n",
        "                    2. state_val: list of states from validation input\n",
        "                    3. SAVE_STATES_TO: location where the states file have to saved to\n",
        "    Output:         HDF5 file of lstm states saved to SAVE_STATES_TO location\n",
        "    '''\n",
        "    final_states = []\n",
        "    states_inter = np.vstack(states_inter)\n",
        "    final_states.append(states_inter)                       # append training_states to final_states\n",
        "    final_states.append(np.array(state_val))                # append validation_states to final_states\n",
        "    val_1 = final_states[0][0]\n",
        "    for k in range(len(final_states)):\n",
        "        for i in range(0,len(final_states[k])):\n",
        "            temp = final_states[k][i]\n",
        "            val_1 = np.concatenate((val_1,temp),axis=0)\n",
        "    print('\\nSaving LSTM states...')\n",
        "    with h5py.File(SAVE_STATES_TO, 'w') as hf:\n",
        "        hf.create_dataset(\"d1\",  data= val_1)\n",
        "    print('LSTM states saved to {}'.format(SAVE_STATES_TO))\n"
      ],
      "execution_count": 0,
      "outputs": []
    },
    {
      "cell_type": "code",
      "metadata": {
        "id": "IE88--7wTfwD",
        "colab_type": "code",
        "colab": {}
      },
      "source": [
        "def plot_confusion(y_test, pred):\n",
        "    labels = [0, 1]\n",
        "    cm = confusion_matrix(y_test, pred, labels)\n",
        "    precision = cm[1][1] / (cm[1][1] + cm[0][1])\n",
        "    recall = cm[1][1] / (cm[1][1] + cm[1][0])\n",
        "    print('Confusion Matrix')\n",
        "    print(cm)\n",
        "    print('Precision: {}'.format(precision))\n",
        "    print('Recall: {}'.format(recall))\n",
        "    fig = plt.figure()\n",
        "    ax = fig.add_subplot(111)\n",
        "    cax = ax.matshow(cm, cmap='summer')\n",
        "\n",
        "    for (i, j), z in np.ndenumerate(cm):\n",
        "        ax.text(j, i, '{:0.1f}'.format(z), ha='center', va='center')\n",
        "\n",
        "    plt.title('Confusion matrix of Baseline')\n",
        "    fig.colorbar(cax)\n",
        "    ax.set_xticklabels([''] + labels)\n",
        "    ax.set_yticklabels([''] + labels)\n",
        "    plt.xlabel('Predicted')\n",
        "    plt.ylabel('True')\n",
        "    plt.show()\n"
      ],
      "execution_count": 0,
      "outputs": []
    },
    {
      "cell_type": "code",
      "metadata": {
        "id": "Rig2pfeaoU-s",
        "colab_type": "code",
        "outputId": "f92a5532-4e77-4042-add1-6e46d61fac34",
        "colab": {
          "base_uri": "https://localhost:8080/",
          "height": 1000
        }
      },
      "source": [
        "%matplotlib inline \n",
        "def run_train(session, train_x, train_y):\n",
        "    '''\n",
        "    Description:    Trains the BiLSTM model with given training set in batches and returns final training results and states\n",
        "    Input:          1. session: Tensorflow session\n",
        "                    2. train_x: training set of padded premise_hypothesis sequences\n",
        "                    3. train_y: Two column binary labels that corresponds to the train_x\n",
        "    Output:         List of training accuracy and loss results, List of final training and validation states\n",
        "    '''\n",
        "    print(\"\\nStart training\")\n",
        "    ###################################################\n",
        "    # initialization of local variables and lists:\n",
        "    acc_results = []\n",
        "    loss_results = []\n",
        "    train_counter = 0\n",
        "    validation_counter = 0\n",
        "\n",
        "    training_steps = 10  # epochs\n",
        "    batch_size = 128        # batch size\n",
        "    display_step = 10       # displays\n",
        "\n",
        "    #for early stopping :\n",
        "    best_loss_val=1000000   # initializing best validation loss to a higher value.\n",
        "    best_train_acc = 0      # best training accuracy\n",
        "    last_improvement=0      # a counter which keeps the record of since when (timesteps/iterations) last improvement was seen\n",
        "    patience= 10            # the number of epochs without improvement you allow before training should be aborted\n",
        "    # since the values are updated every 10th iteration, the stopping limit becomes: (patience * 10)\n",
        "\n",
        "    costs = []              # validation costs history\n",
        "    costs_inter=[]          # intermediate validation costs. These values are only used as a log to keep track of the costs.\n",
        "    best_loss_observed_epoch = 0\n",
        "\n",
        "    ###################################################\n",
        "\n",
        "    session.run(tf.compat.v1.global_variables_initializer())                        # initialize all variables using session\n",
        "    for epoch in range(1, training_steps + 1):                                      # training iterations\n",
        "        train_x, train_y = shuffle(train_x, train_y)\n",
        "        inner_split = train_x.shape[0] // batch_size                                # creating batches\n",
        "        states_inter = []\n",
        "        scores_inter = []\n",
        "        attention_scores = []                                                       # list to append final training and validation attention scores\n",
        "\n",
        "        for i in range(inner_split + 1):\n",
        "            batch_x = train_x[i*batch_size:(i+1)*batch_size]                        # generating batches of X_train\n",
        "            batch_y = train_y[i*batch_size:(i+1)*batch_size]                        # generating batches of y_train\n",
        "            session.run(train_op, feed_dict={X: batch_x, y: batch_y, keep_prob :0.5, weight_decay:1e-01})\n",
        "\n",
        "            if epoch == 1 or epoch % display_step == 0:                             # print and save necessary information about training only at an interval of 'display_step' number of steps to reduce computational complexity\n",
        "\n",
        "                state_train , attention_train  = session.run([output,attention_score], feed_dict={X: batch_x, y: batch_y, keep_prob :0.5, weight_decay:1e-01})     # extract states for each batch-wise training inputs\n",
        "                # print(state_train.shape)\n",
        "                states_inter.append(np.array(state_train))\n",
        "                # print(len(states_inter))\n",
        "                scores_inter.append(np.array(attention_train))\n",
        "                # print(len(states_inter))\n",
        "                if i == inner_split:                                                # last batch split of the selected epoch\n",
        "                    summary, loss_train, acc_train = session.run([merged, loss_op, accuracy], feed_dict={X: batch_x, y: batch_y, keep_prob :0.5, weight_decay:1e-01})\n",
        "                    train_writer.add_summary(summary, train_counter)\n",
        "\n",
        "                    summary, loss_val, acc_val, pred_val ,state_val ,attention_val = session.run([merged, loss_op, accuracy, prediction, output , attention_score ], feed_dict={X: X_val, y: y_val , keep_prob :1.0, weight_decay:0.0})\n",
        "                    validation_writer.add_summary(summary, validation_counter)\n",
        "                    train_counter+=display_step\n",
        "                    validation_counter+=display_step\n",
        "\n",
        "                    if math.isnan(loss_val):\n",
        "                        sys.exit(\"\\n!!! Explosion of gradients !!! \\nTerminating program!\")\n",
        "\n",
        "                    print(\"Epoch {}, Batch Split {}\".format(epoch, i+1) + \", Minibatch Loss= \" + \\\n",
        "                      \"{:.4f}\".format(loss_train) + \", Minibatch Training Accuracy= \" + \\\n",
        "                      \"{:.3f}\".format(acc_train))\n",
        "                    print(\" Validation Loss = {:.4f}\".format(loss_val) + \", Validation Accuracy= {:.3f}\".format(acc_val))\n",
        "\n",
        "                    acc_results.append(acc_train)\n",
        "                    loss_results.append(loss_train)\n",
        "\n",
        "                    #...... BEGIN EARLY STOPPING EVALUATION ......\n",
        "\n",
        "                    # CONDITION:\n",
        "                    # 1. If validation loss has not decreased since 20 steps\n",
        "                    #   1.1. If the average of last 20 iterations are less than 0.72\n",
        "\n",
        "                    costs_inter.append(loss_val)            # append validation loss to costs_inter\n",
        "\n",
        "                    if loss_val < best_loss_val:            # if improved validation loss found\n",
        "                        best_loss_val = loss_val            # set current validation loss to best_loss_val\n",
        "                        best_train_acc = acc_train          # set current training accuracy to best_train_acc\n",
        "                        best_val_acc = acc_val              # set current validation accuracy to acc_val\n",
        "                        costs +=costs_inter                 # append intermediate cost history to costs\n",
        "                        last_improvement = 0                # reset last_improvement\n",
        "                        costs_inter= []                     # reset costs_inter\n",
        "                        best_loss_observed_epoch = epoch\n",
        "                    else:\n",
        "                        last_improvement +=1                # else, increment last_improvement\n",
        "\n",
        "                    if last_improvement > patience:                         # if no improvement seen over 'patience' number of steps\n",
        "                        print('\\n Validation Confusion Matrix: ')\n",
        "                        plot_confusion(np.argmax(y_val, axis=1), np.argmax(pred_val, axis=1))\n",
        "                        print(\"\\nNo improvement found during the last {} iterations\".format(patience))\n",
        "                        print('Avg validation loss over this period: ', sum(costs_inter)/len(costs_inter))\n",
        "\n",
        "                        _ = saver.save(session, SAVE_MODEL_TO+\"m_{}_{}.ckpt\".format(acc_train, acc_val), global_step=epoch)\n",
        "\n",
        "                        print('Recording training and validation states at cost of early-stopping')\n",
        "                        save_LSTM_states(states_inter, state_val, SAVE_STATES_TO+'-final.hdf5')\n",
        "\n",
        "                        scores_inter = np.vstack(scores_inter)\n",
        "                        attention_scores.append(scores_inter)\n",
        "                        attention_scores.append(np.array(attention_val))\n",
        "\n",
        "                        return acc_results, loss_results, attention_scores\n",
        "\n",
        "\n",
        "                    elif epoch % 100 == 0:                                                   # else, save checkpoint and reset costs_inter and last_improvement\n",
        "                        print('\\n Validation Confusion Matrix: ')\n",
        "                        plot_confusion(np.argmax(y_val, axis=1), np.argmax(pred_val, axis=1))\n",
        "                        print('\\nSaving Checkpoint...')\n",
        "                        _ = saver.save(session, SAVE_MODEL_TO+\"m_{}_{}.ckpt\".format(acc_train, acc_val), global_step=epoch)\n",
        "                        print('<<<Model Checkpoint saved>>>')\n",
        "                        print('<<<State Checkpoint saved>>>')\n",
        "                        save_LSTM_states(states_inter, state_val, SAVE_STATES_TO+'-'+str(epoch)+'.hdf5')\n",
        "\n",
        "                        print('Continuing Training...\\n')\n",
        "\n",
        "\n",
        "                    #...... END EARLY STOPPING EVALUATION ......\n",
        "\n",
        "                    if epoch == training_steps:                                 # do not change this intendation to make sure this line run only once and not for each split of the epoch!\n",
        "\n",
        "                        print('\\n Validation Confusion Matrix: ')\n",
        "                        plot_confusion(np.argmax(y_val, axis=1), np.argmax(pred_val, axis=1))\n",
        "\n",
        "                        _ = saver.save(session, SAVE_MODEL_TO+\"m_{}_{}.ckpt\".format(acc_train, acc_val), global_step=epoch)                         # save model to local\n",
        "\n",
        "                        print('Recording final training and validation states')\n",
        "                        save_LSTM_states(states_inter, state_val, SAVE_STATES_TO+'-final.hdf5')\n",
        "\n",
        "                        scores_inter = np.vstack(scores_inter)\n",
        "                        attention_scores.append(scores_inter)\n",
        "                        attention_scores.append(np.array(attention_val))\n",
        "\n",
        "                        print('\\nBest result: Training acc = {}, Validation acc = {} observed at {}'.format(best_train_acc, best_val_acc, best_loss_observed_epoch)) # the best result seen before 'no improvements'\n",
        "\n",
        "    print(attention_scores[0].shape, attention_scores[1].shape)\n",
        "    print(\"Total attention list \" + str(len(attention_scores)))\n",
        "    return acc_results, loss_results, attention_scores\n",
        "\n",
        "\n",
        "\n",
        "saver = tf.compat.v1.train.Saver()\n",
        "saver = tf.compat.v1.train.Saver()\n",
        "with tf.compat.v1.Session() as sess:\n",
        "    # Log for tensorboard visualization\n",
        "    logdir = os.path.join(SAVE_LOGS_TO, datetime.datetime.now().strftime(\"%Y%m%d-%H%M%S\"))\n",
        "    merged = tf.compat.v1.summary.merge_all()\n",
        "    train_writer = tf.compat.v1.summary.FileWriter(logdir + '/train', sess.graph)\n",
        "    validation_writer = tf.compat.v1.summary.FileWriter(logdir + '/validation')\n",
        "\n",
        "    start_time = datetime.datetime.now()\n",
        "    print('-'*50)\n",
        "    print('Session started at: {}'.format(start_time))\n",
        "    acc_results, loss_results,  attention_scores = run_train(sess, X_train, y_train)\n",
        "    print('Training performance: Accuracy {}, Loss {}'.format(acc_results[-1], loss_results[-1]))\n",
        "    end_time = datetime.datetime.now()\n",
        "    print('Total Execution time: {} minutes'.format(end_time.minute - start_time.minute))\n",
        "\n",
        "    f = open(SAVE_SCORES_TO,'wb')\n",
        "    pickle.dump(attention_scores,f)\n",
        "\n",
        "    print('Attention scores saved to {}\\{}'.format(os.getcwd(), SAVE_SCORES_TO))\n",
        "\n",
        "    print(\"Testing on Test Dataset\")\n",
        "\n",
        "    loss_test, acc_test , pred_test = sess.run([loss_op, accuracy , prediction], feed_dict={X: X_test, y: y_test, keep_prob :1.0, weight_decay:0.0})\n",
        "\n",
        "    print('\\nTest Loss = {}, Test Accuracy = {}'.format(loss_test, acc_test))\n",
        "    plot_confusion(np.argmax(y_test, axis=1), np.argmax(pred_test, axis=1))\n",
        "\n",
        "    sess.close()\n",
        "\n"
      ],
      "execution_count": 20,
      "outputs": [
        {
          "output_type": "stream",
          "text": [
            "--------------------------------------------------\n",
            "Session started at: 2020-06-09 21:12:46.662244\n",
            "\n",
            "Start training\n",
            "(128, 284, 256)\n",
            "1\n",
            "1\n",
            "(128, 284, 256)\n",
            "2\n",
            "2\n",
            "(128, 284, 256)\n",
            "3\n",
            "3\n",
            "(117, 284, 256)\n",
            "4\n",
            "4\n",
            "Epoch 1, Batch Split 4, Minibatch Loss= 0.9125, Minibatch Training Accuracy= 0.521\n",
            " Validation Loss = 0.7104, Validation Accuracy= 0.508\n",
            "(128, 284, 256)\n",
            "1\n",
            "1\n",
            "(128, 284, 256)\n",
            "2\n",
            "2\n",
            "(128, 284, 256)\n",
            "3\n",
            "3\n",
            "(117, 284, 256)\n",
            "4\n",
            "4\n",
            "Epoch 10, Batch Split 4, Minibatch Loss= 0.8929, Minibatch Training Accuracy= 0.564\n",
            " Validation Loss = 0.7062, Validation Accuracy= 0.508\n",
            "\n",
            " Validation Confusion Matrix: \n",
            "Confusion Matrix\n",
            "[[64  0]\n",
            " [62  0]]\n",
            "Precision: nan\n",
            "Recall: 0.0\n"
          ],
          "name": "stdout"
        },
        {
          "output_type": "stream",
          "text": [
            "/usr/local/lib/python3.6/dist-packages/ipykernel_launcher.py:4: RuntimeWarning: invalid value encountered in long_scalars\n",
            "  after removing the cwd from sys.path.\n"
          ],
          "name": "stderr"
        },
        {
          "output_type": "display_data",
          "data": {
            "image/png": "[encoded data removed]",
            "text/plain": [
              "<Figure size 432x288 with 2 Axes>"
            ]
          },
          "metadata": {
            "tags": [],
            "needs_background": "light"
          }
        },
        {
          "output_type": "stream",
          "text": [
            "Recording final training and validation states\n",
            "\n",
            "Saving LSTM states...\n",
            "LSTM states saved to states/POS_sim_neg/attention/states.hdf5-final.hdf5\n",
            "\n",
            "Best result: Training acc = 0.5641025900840759, Validation acc = 0.5079365372657776 observed at 10\n",
            "(501, 284) (126, 284)\n",
            "Total attention list 2\n",
            "Training performance: Accuracy 0.5641025900840759, Loss 0.8929019570350647\n",
            "Total Execution time: 2 minutes\n",
            "Attention scores saved to /content/drive/My Drive/COLIEE/Code/nli_coliee\\attention_scores/attention_scores_baseline.pkl\n",
            "Testing on Test Dataset\n",
            "\n",
            "Test Loss = 0.7023828625679016, Test Accuracy = 0.5204081535339355\n",
            "Confusion Matrix\n",
            "[[51  0]\n",
            " [47  0]]\n",
            "Precision: nan\n",
            "Recall: 0.0\n"
          ],
          "name": "stdout"
        },
        {
          "output_type": "display_data",
          "data": {
            "image/png": "[encoded data removed]",
            "text/plain": [
              "<Figure size 432x288 with 2 Axes>"
            ]
          },
          "metadata": {
            "tags": [],
            "needs_background": "light"
          }
        }
      ]
    },
    {
      "cell_type": "code",
      "metadata": {
        "id": "2_awQw_dxKiD",
        "colab_type": "code",
        "outputId": "5f9d4967-fc53-4324-b26d-9fef46ea32d0",
        "colab": {
          "base_uri": "https://localhost:8080/",
          "height": 17
        }
      },
      "source": [
        "%load_ext tensorboard\n",
        "%tensorboard --logdir tensorBoardLogs/sim_neg/attention/"
      ],
      "execution_count": 21,
      "outputs": [
        {
          "output_type": "display_data",
          "data": {
            "text/html": [
              "\n",
              "    <div id=\"root\"></div>\n",
              "    <script>\n",
              "      (function() {\n",
              "        window.TENSORBOARD_ENV = window.TENSORBOARD_ENV || {};\n",
              "        window.TENSORBOARD_ENV[\"IN_COLAB\"] = true;\n",
              "        document.querySelector(\"base\").href = \"https://localhost:6006\";\n",
              "        function fixUpTensorboard(root) {\n",
              "          const tftb = root.querySelector(\"tf-tensorboard\");\n",
              "          // Disable the fragment manipulation behavior in Colab. Not\n",
              "          // only is the behavior not useful (as the iframe's location\n",
              "          // is not visible to the user), it causes TensorBoard's usage\n",
              "          // of `window.replace` to navigate away from the page and to\n",
              "          // the `localhost:<port>` URL specified by the base URI, which\n",
              "          // in turn causes the frame to (likely) crash.\n",
              "          tftb.removeAttribute(\"use-hash\");\n",
              "        }\n",
              "        function executeAllScripts(root) {\n",
              "          // When `script` elements are inserted into the DOM by\n",
              "          // assigning to an element's `innerHTML`, the scripts are not\n",
              "          // executed. Thus, we manually re-insert these scripts so that\n",
              "          // TensorBoard can initialize itself.\n",
              "          for (const script of root.querySelectorAll(\"script\")) {\n",
              "            const newScript = document.createElement(\"script\");\n",
              "            newScript.type = script.type;\n",
              "            newScript.textContent = script.textContent;\n",
              "            root.appendChild(newScript);\n",
              "            script.remove();\n",
              "          }\n",
              "        }\n",
              "        function setHeight(root, height) {\n",
              "          // We set the height dynamically after the TensorBoard UI has\n",
              "          // been initialized. This avoids an intermediate state in\n",
              "          // which the container plus the UI become taller than the\n",
              "          // final width and cause the Colab output frame to be\n",
              "          // permanently resized, eventually leading to an empty\n",
              "          // vertical gap below the TensorBoard UI. It's not clear\n",
              "          // exactly what causes this problematic intermediate state,\n",
              "          // but setting the height late seems to fix it.\n",
              "          root.style.height = `${height}px`;\n",
              "        }\n",
              "        const root = document.getElementById(\"root\");\n",
              "        fetch(\".\")\n",
              "          .then((x) => x.text())\n",
              "          .then((html) => void (root.innerHTML = html))\n",
              "          .then(() => fixUpTensorboard(root))\n",
              "          .then(() => executeAllScripts(root))\n",
              "          .then(() => setHeight(root, 800));\n",
              "      })();\n",
              "    </script>\n",
              "  "
            ],
            "text/plain": [
              "<IPython.core.display.HTML object>"
            ]
          },
          "metadata": {
            "tags": []
          }
        }
      ]
    }
  ]
}